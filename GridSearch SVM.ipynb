{
 "cells": [
  {
   "cell_type": "markdown",
   "metadata": {},
   "source": [
    "# Make pipe, then GridSearch\n",
    "Run through the night.... uh turns out you didn't really need to.\n",
    "\n",
    "Gridsearch on both ready.dat and reduce.dat. Can?"
   ]
  },
  {
   "cell_type": "code",
   "execution_count": 1,
   "metadata": {},
   "outputs": [],
   "source": [
    "from dataload import *"
   ]
  },
  {
   "cell_type": "code",
   "execution_count": 2,
   "metadata": {},
   "outputs": [],
   "source": [
    "x_train, x_test, y_train, y_test = load_object('reduce.dat')"
   ]
  },
  {
   "cell_type": "raw",
   "metadata": {},
   "source": [
    "from sampler import make_pipe\n",
    "\n",
    "# make a sampling pipeline on the full training set (target = attack)\n",
    "# samp_pipe = make_pipe(19999, levels=['smurf', 'neptune', 'normal'])\n",
    "# x_train_r, y_train_r = samp_pipe.fit_sample(x_train, y_train.attack)\n",
    "\n",
    "# make a sampling pipeline on the full training set (target = attack_type)\n",
    "samp_pipe = make_pipe(29999, levels=['dos', 'normal', 'probe'])\n",
    "x_train_r, y_train_r = samp_pipe.fit_sample(x_train, y_train.attack_type)"
   ]
  },
  {
   "cell_type": "raw",
   "metadata": {},
   "source": [
    "save_object([x_train_r, y_train_r],\"samplexy.dat\")"
   ]
  },
  {
   "cell_type": "code",
   "execution_count": 3,
   "metadata": {},
   "outputs": [],
   "source": [
    "x,y = load_object(\"samplexy.dat\")"
   ]
  },
  {
   "cell_type": "code",
   "execution_count": 4,
   "metadata": {},
   "outputs": [],
   "source": [
    "from sklearn import svm,model_selection\n",
    "parameters = [\n",
    "    {'kernel': ['linear'], 'C':[0.1, 1, 10]},\n",
    "    {'kernel': ['rbf'], 'gamma':[0.5, 1, 2], 'C':[0.1, 1, 10]}]"
   ]
  },
  {
   "cell_type": "code",
   "execution_count": 5,
   "metadata": {},
   "outputs": [],
   "source": [
    "clf = model_selection.GridSearchCV(svm.SVC(), parameters, \n",
    "                                   cv = model_selection.StratifiedKFold(n_splits = 3, \n",
    "                                                                        shuffle = True, \n",
    "                                                                        random_state = 2018),n_jobs=5)"
   ]
  },
  {
   "cell_type": "code",
   "execution_count": 6,
   "metadata": {},
   "outputs": [
    {
     "name": "stdout",
     "output_type": "stream",
     "text": [
      "Wall time: 9min 30s\n"
     ]
    },
    {
     "data": {
      "text/plain": [
       "GridSearchCV(cv=StratifiedKFold(n_splits=3, random_state=2018, shuffle=True),\n",
       "       error_score='raise',\n",
       "       estimator=SVC(C=1.0, cache_size=200, class_weight=None, coef0=0.0,\n",
       "  decision_function_shape='ovr', degree=3, gamma='auto', kernel='rbf',\n",
       "  max_iter=-1, probability=False, random_state=None, shrinking=True,\n",
       "  tol=0.001, verbose=False),\n",
       "       fit_params=None, iid=True, n_jobs=5,\n",
       "       param_grid=[{'kernel': ['linear'], 'C': [0.1, 1, 10]}, {'kernel': ['rbf'], 'gamma': [0.5, 1, 2], 'C': [0.1, 1, 10]}],\n",
       "       pre_dispatch='2*n_jobs', refit=True, return_train_score='warn',\n",
       "       scoring=None, verbose=0)"
      ]
     },
     "execution_count": 6,
     "metadata": {},
     "output_type": "execute_result"
    }
   ],
   "source": [
    "%time clf.fit(x,y)"
   ]
  },
  {
   "cell_type": "code",
   "execution_count": 7,
   "metadata": {},
   "outputs": [
    {
     "name": "stdout",
     "output_type": "stream",
     "text": [
      "best score: 0.9871929064302143\n",
      "best parameters:  {'C': 10, 'gamma': 2, 'kernel': 'rbf'}\n"
     ]
    }
   ],
   "source": [
    "print('best score:', clf.best_score_)\n",
    "print('best parameters: ', clf.best_params_)"
   ]
  },
  {
   "cell_type": "markdown",
   "metadata": {},
   "source": [
    "This is modified from ```models.py```.\n",
    "\n",
    "I want y to point directly at the ```attack_type``` column."
   ]
  },
  {
   "cell_type": "code",
   "execution_count": 18,
   "metadata": {},
   "outputs": [],
   "source": [
    "from sklearn.metrics import confusion_matrix,precision_score,recall_score,f1_score,cohen_kappa_score,roc_auc_score\n",
    "def score_test(model, x,y):\n",
    "    from pandas import DataFrame\n",
    "    y_pred = model.predict(x)\n",
    "    labels = ['normal', 'dos', 'probe', 'r2l', 'u2r']\n",
    "    return DataFrame({\n",
    "        'precision' : precision_score(y, y_pred, average=None, labels=labels),\n",
    "        'recall' : recall_score(y, y_pred, average=None, labels=labels),\n",
    "        'F1' : f1_score(y, y_pred, average=None, labels=labels),\n",
    "        'kappa' : cohen_kappa_score(y, y_pred, labels=labels) },\n",
    "        # 'AUC' : roc_auc_score(y_test.attack_type, y_pred, average=None) },\n",
    "        index=labels)"
   ]
  },
  {
   "cell_type": "code",
   "execution_count": 15,
   "metadata": {},
   "outputs": [],
   "source": [
    "y_test_atk = y_test.attack_type # sometimes this throws an error otherwise."
   ]
  },
  {
   "cell_type": "code",
   "execution_count": 19,
   "metadata": {},
   "outputs": [
    {
     "data": {
      "text/html": [
       "<div>\n",
       "<style scoped>\n",
       "    .dataframe tbody tr th:only-of-type {\n",
       "        vertical-align: middle;\n",
       "    }\n",
       "\n",
       "    .dataframe tbody tr th {\n",
       "        vertical-align: top;\n",
       "    }\n",
       "\n",
       "    .dataframe thead th {\n",
       "        text-align: right;\n",
       "    }\n",
       "</style>\n",
       "<table border=\"1\" class=\"dataframe\">\n",
       "  <thead>\n",
       "    <tr style=\"text-align: right;\">\n",
       "      <th></th>\n",
       "      <th>F1</th>\n",
       "      <th>kappa</th>\n",
       "      <th>precision</th>\n",
       "      <th>recall</th>\n",
       "    </tr>\n",
       "  </thead>\n",
       "  <tbody>\n",
       "    <tr>\n",
       "      <th>normal</th>\n",
       "      <td>0.994759</td>\n",
       "      <td>0.993202</td>\n",
       "      <td>0.997344</td>\n",
       "      <td>0.992187</td>\n",
       "    </tr>\n",
       "    <tr>\n",
       "      <th>dos</th>\n",
       "      <td>0.999550</td>\n",
       "      <td>0.993202</td>\n",
       "      <td>0.999979</td>\n",
       "      <td>0.999122</td>\n",
       "    </tr>\n",
       "    <tr>\n",
       "      <th>probe</th>\n",
       "      <td>0.971963</td>\n",
       "      <td>0.993202</td>\n",
       "      <td>0.945890</td>\n",
       "      <td>0.999513</td>\n",
       "    </tr>\n",
       "    <tr>\n",
       "      <th>r2l</th>\n",
       "      <td>0.270000</td>\n",
       "      <td>0.993202</td>\n",
       "      <td>0.157205</td>\n",
       "      <td>0.955752</td>\n",
       "    </tr>\n",
       "    <tr>\n",
       "      <th>u2r</th>\n",
       "      <td>0.256410</td>\n",
       "      <td>0.993202</td>\n",
       "      <td>0.147059</td>\n",
       "      <td>1.000000</td>\n",
       "    </tr>\n",
       "  </tbody>\n",
       "</table>\n",
       "</div>"
      ],
      "text/plain": [
       "              F1     kappa  precision    recall\n",
       "normal  0.994759  0.993202   0.997344  0.992187\n",
       "dos     0.999550  0.993202   0.999979  0.999122\n",
       "probe   0.971963  0.993202   0.945890  0.999513\n",
       "r2l     0.270000  0.993202   0.157205  0.955752\n",
       "u2r     0.256410  0.993202   0.147059  1.000000"
      ]
     },
     "execution_count": 19,
     "metadata": {},
     "output_type": "execute_result"
    }
   ],
   "source": [
    "score_test(clf,x_test,y_test_atk)"
   ]
  },
  {
   "cell_type": "code",
   "execution_count": null,
   "metadata": {},
   "outputs": [],
   "source": []
  },
  {
   "cell_type": "code",
   "execution_count": null,
   "metadata": {},
   "outputs": [],
   "source": []
  },
  {
   "cell_type": "code",
   "execution_count": null,
   "metadata": {},
   "outputs": [],
   "source": []
  },
  {
   "cell_type": "code",
   "execution_count": 21,
   "metadata": {},
   "outputs": [],
   "source": [
    "xt, xe, yt, ye = load_object('ready.dat')\n",
    "ye = ye.attack_type"
   ]
  },
  {
   "cell_type": "code",
   "execution_count": 23,
   "metadata": {},
   "outputs": [],
   "source": [
    "from sampler import make_pipe\n",
    "samp_pipe = make_pipe(29999, levels=['dos', 'normal', 'probe'])\n",
    "xtr, ytr = samp_pipe.fit_sample(xt, yt.attack_type)"
   ]
  },
  {
   "cell_type": "code",
   "execution_count": 24,
   "metadata": {},
   "outputs": [],
   "source": [
    "save_object([xtr,ytr],\"samplexy.dat\")"
   ]
  },
  {
   "cell_type": "code",
   "execution_count": 25,
   "metadata": {},
   "outputs": [
    {
     "name": "stdout",
     "output_type": "stream",
     "text": [
      "Wall time: 11min 18s\n"
     ]
    },
    {
     "data": {
      "text/plain": [
       "GridSearchCV(cv=StratifiedKFold(n_splits=3, random_state=2018, shuffle=True),\n",
       "       error_score='raise',\n",
       "       estimator=SVC(C=1.0, cache_size=200, class_weight=None, coef0=0.0,\n",
       "  decision_function_shape='ovr', degree=3, gamma='auto', kernel='rbf',\n",
       "  max_iter=-1, probability=False, random_state=None, shrinking=True,\n",
       "  tol=0.001, verbose=False),\n",
       "       fit_params=None, iid=True, n_jobs=5,\n",
       "       param_grid=[{'kernel': ['linear'], 'C': [0.1, 1, 10]}, {'kernel': ['rbf'], 'gamma': [0.5, 1, 2], 'C': [0.1, 1, 10]}],\n",
       "       pre_dispatch='2*n_jobs', refit=True, return_train_score='warn',\n",
       "       scoring=None, verbose=0)"
      ]
     },
     "execution_count": 25,
     "metadata": {},
     "output_type": "execute_result"
    }
   ],
   "source": [
    "%time clf.fit(xtr,ytr)"
   ]
  },
  {
   "cell_type": "code",
   "execution_count": 26,
   "metadata": {},
   "outputs": [
    {
     "name": "stdout",
     "output_type": "stream",
     "text": [
      "best score: 0.9870862362078736\n",
      "best parameters:  {'C': 10, 'gamma': 2, 'kernel': 'rbf'}\n"
     ]
    }
   ],
   "source": [
    "print('best score:', clf.best_score_)\n",
    "print('best parameters: ', clf.best_params_)"
   ]
  },
  {
   "cell_type": "code",
   "execution_count": 27,
   "metadata": {},
   "outputs": [
    {
     "name": "stdout",
     "output_type": "stream",
     "text": [
      "Wall time: 48.3 s\n"
     ]
    },
    {
     "data": {
      "text/html": [
       "<div>\n",
       "<style scoped>\n",
       "    .dataframe tbody tr th:only-of-type {\n",
       "        vertical-align: middle;\n",
       "    }\n",
       "\n",
       "    .dataframe tbody tr th {\n",
       "        vertical-align: top;\n",
       "    }\n",
       "\n",
       "    .dataframe thead th {\n",
       "        text-align: right;\n",
       "    }\n",
       "</style>\n",
       "<table border=\"1\" class=\"dataframe\">\n",
       "  <thead>\n",
       "    <tr style=\"text-align: right;\">\n",
       "      <th></th>\n",
       "      <th>F1</th>\n",
       "      <th>kappa</th>\n",
       "      <th>precision</th>\n",
       "      <th>recall</th>\n",
       "    </tr>\n",
       "  </thead>\n",
       "  <tbody>\n",
       "    <tr>\n",
       "      <th>normal</th>\n",
       "      <td>0.997094</td>\n",
       "      <td>0.987375</td>\n",
       "      <td>0.999163</td>\n",
       "      <td>0.995033</td>\n",
       "    </tr>\n",
       "    <tr>\n",
       "      <th>dos</th>\n",
       "      <td>0.999733</td>\n",
       "      <td>0.987375</td>\n",
       "      <td>0.999967</td>\n",
       "      <td>0.999500</td>\n",
       "    </tr>\n",
       "    <tr>\n",
       "      <th>probe</th>\n",
       "      <td>0.999350</td>\n",
       "      <td>0.987375</td>\n",
       "      <td>0.999200</td>\n",
       "      <td>0.999500</td>\n",
       "    </tr>\n",
       "    <tr>\n",
       "      <th>r2l</th>\n",
       "      <td>0.975747</td>\n",
       "      <td>0.987375</td>\n",
       "      <td>0.976497</td>\n",
       "      <td>0.974999</td>\n",
       "    </tr>\n",
       "    <tr>\n",
       "      <th>u2r</th>\n",
       "      <td>0.977615</td>\n",
       "      <td>0.987375</td>\n",
       "      <td>0.974780</td>\n",
       "      <td>0.980466</td>\n",
       "    </tr>\n",
       "  </tbody>\n",
       "</table>\n",
       "</div>"
      ],
      "text/plain": [
       "              F1     kappa  precision    recall\n",
       "normal  0.997094  0.987375   0.999163  0.995033\n",
       "dos     0.999733  0.987375   0.999967  0.999500\n",
       "probe   0.999350  0.987375   0.999200  0.999500\n",
       "r2l     0.975747  0.987375   0.976497  0.974999\n",
       "u2r     0.977615  0.987375   0.974780  0.980466"
      ]
     },
     "execution_count": 27,
     "metadata": {},
     "output_type": "execute_result"
    }
   ],
   "source": [
    "%time score_test(clf,xtr,ytr)"
   ]
  },
  {
   "cell_type": "code",
   "execution_count": 28,
   "metadata": {},
   "outputs": [
    {
     "name": "stdout",
     "output_type": "stream",
     "text": [
      "Wall time: 2min 38s\n"
     ]
    },
    {
     "data": {
      "text/html": [
       "<div>\n",
       "<style scoped>\n",
       "    .dataframe tbody tr th:only-of-type {\n",
       "        vertical-align: middle;\n",
       "    }\n",
       "\n",
       "    .dataframe tbody tr th {\n",
       "        vertical-align: top;\n",
       "    }\n",
       "\n",
       "    .dataframe thead th {\n",
       "        text-align: right;\n",
       "    }\n",
       "</style>\n",
       "<table border=\"1\" class=\"dataframe\">\n",
       "  <thead>\n",
       "    <tr style=\"text-align: right;\">\n",
       "      <th></th>\n",
       "      <th>F1</th>\n",
       "      <th>kappa</th>\n",
       "      <th>precision</th>\n",
       "      <th>recall</th>\n",
       "    </tr>\n",
       "  </thead>\n",
       "  <tbody>\n",
       "    <tr>\n",
       "      <th>normal</th>\n",
       "      <td>0.995561</td>\n",
       "      <td>0.994139</td>\n",
       "      <td>0.997369</td>\n",
       "      <td>0.993760</td>\n",
       "    </tr>\n",
       "    <tr>\n",
       "      <th>dos</th>\n",
       "      <td>0.999552</td>\n",
       "      <td>0.994139</td>\n",
       "      <td>0.999972</td>\n",
       "      <td>0.999132</td>\n",
       "    </tr>\n",
       "    <tr>\n",
       "      <th>probe</th>\n",
       "      <td>0.969776</td>\n",
       "      <td>0.994139</td>\n",
       "      <td>0.941972</td>\n",
       "      <td>0.999270</td>\n",
       "    </tr>\n",
       "    <tr>\n",
       "      <th>r2l</th>\n",
       "      <td>0.331230</td>\n",
       "      <td>0.994139</td>\n",
       "      <td>0.201536</td>\n",
       "      <td>0.929204</td>\n",
       "    </tr>\n",
       "    <tr>\n",
       "      <th>u2r</th>\n",
       "      <td>0.333333</td>\n",
       "      <td>0.994139</td>\n",
       "      <td>0.200000</td>\n",
       "      <td>1.000000</td>\n",
       "    </tr>\n",
       "  </tbody>\n",
       "</table>\n",
       "</div>"
      ],
      "text/plain": [
       "              F1     kappa  precision    recall\n",
       "normal  0.995561  0.994139   0.997369  0.993760\n",
       "dos     0.999552  0.994139   0.999972  0.999132\n",
       "probe   0.969776  0.994139   0.941972  0.999270\n",
       "r2l     0.331230  0.994139   0.201536  0.929204\n",
       "u2r     0.333333  0.994139   0.200000  1.000000"
      ]
     },
     "execution_count": 28,
     "metadata": {},
     "output_type": "execute_result"
    }
   ],
   "source": [
    "%time score_test(clf,xe,ye)"
   ]
  },
  {
   "cell_type": "code",
   "execution_count": null,
   "metadata": {},
   "outputs": [],
   "source": []
  }
 ],
 "metadata": {
  "kernelspec": {
   "display_name": "Python 3",
   "language": "python",
   "name": "python3"
  },
  "language_info": {
   "codemirror_mode": {
    "name": "ipython",
    "version": 3
   },
   "file_extension": ".py",
   "mimetype": "text/x-python",
   "name": "python",
   "nbconvert_exporter": "python",
   "pygments_lexer": "ipython3",
   "version": "3.6.4"
  }
 },
 "nbformat": 4,
 "nbformat_minor": 2
}
